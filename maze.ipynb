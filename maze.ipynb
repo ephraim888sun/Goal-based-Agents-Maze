{
  "cells": [
    {
      "cell_type": "markdown",
      "metadata": {
        "id": "owEhpTaPX8xr"
      },
      "source": [
        "# Search: Solving a Maze Using a Goal-based Agent\n",
        "\n",
        "Student Name: Ephraim Sun\n",
        "\n",
        "I have used the following AI tools: [list tools]\n",
        "\n",
        "I understand that my submission needs to be my own work: E.S.\n",
        "\n",
        "## Instructions\n",
        "\n",
        "Total Points: Undergrads 100 + 5 bonus / Graduate students 110\n",
        "\n",
        "Complete this notebook. Use the provided notebook cells and insert additional code and markdown cells as needed. Submit the completely rendered notebook as a HTML file.\n",
        "\n",
        "\n",
        "## Introduction\n",
        "\n",
        "The agent has a map of the maze it is in and the environment is assumed to be **deterministic, discrete, and known.** The agent must use the map to plan a path through the maze from the starting location $S$ to the goal location $G$.  This is a planing exercise for a goal-based agent, so you do not need to implement an environment, just use the map to search for a path. Once the plan is made, the agent in a deterministic environment (i.e., the transition function is deterministic with the outcome of each state/action pair fixed and no randomness) can just follow the path and does not need to care about the percepts.\n",
        "This is also called an **[open-loop system](https://en.wikipedia.org/wiki/Open-loop_controller).**\n",
        "The execution phase is trivial and we do not implement it in this exercise.\n",
        "\n",
        "Tree search algorithm implementations that you find online and used in general algorithms courses have often a different aim. These algorithms assume that you already have a tree in memory. We are interested in dynamically creating a search tree with the aim of finding a good/the best path from the root note to the goal state. Follow the pseudo code presented in the text book (and replicated in the slides) closely. Ideally, we would like to search only a small part of the maze, i.e., create a search tree with as few nodes as possible.\n",
        "\n",
        "Several mazes for this exercise are stored as text files. Here is the small example maze:"
      ]
    },
    {
      "cell_type": "code",
      "execution_count": 46,
      "metadata": {
        "id": "LAi9o7RRX8xx",
        "outputId": "8f75f378-2fb7-452a-abd4-3e7133531284"
      },
      "outputs": [
        {
          "name": "stdout",
          "output_type": "stream",
          "text": [
            "XXXXXXXXXXXXXXXXXXXXXX\n",
            "X XX        X X      X\n",
            "X    XXXXXX X XXXXXX X\n",
            "XXXXXX     S  X      X\n",
            "X    X XXXXXX XX XXXXX\n",
            "X XXXX X         X   X\n",
            "X        XXX XXX   X X\n",
            "XXXXXXXXXX    XXXXXX X\n",
            "XG         XX        X\n",
            "XXXXXXXXXXXXXXXXXXXXXX\n",
            "\n"
          ]
        }
      ],
      "source": [
        "with open(\"small_maze.txt\", \"r\") as f:\n",
        "    maze_str = f.read()\n",
        "print(maze_str)"
      ]
    },
    {
      "cell_type": "markdown",
      "metadata": {
        "id": "_hhUesesX8xz"
      },
      "source": [
        "__Note:__ The mazes above contains cycles and therefore the state space may not form proper trees unless cycles are prevented. Therfore, you will need to deal with cycle detection in your code."
      ]
    },
    {
      "cell_type": "markdown",
      "metadata": {
        "id": "q2T0oOvaX8xz"
      },
      "source": [
        "## Parsing and pretty printing the maze\n",
        "\n",
        "The maze can also be displayed in color using code in the module [maze_helper.py](maze_helper.py). The code parses the string representing the maze and converts it into a `numpy` 2d array which you can use in your implementation. Position are represented as a 2-tuple of the form `(row, col)`."
      ]
    },
    {
      "cell_type": "code",
      "execution_count": 47,
      "metadata": {
        "id": "fu-s4VchX8x0",
        "outputId": "e82b39e9-6624-4f37-95ec-a97b39f979b7",
        "tags": []
      },
      "outputs": [
        {
          "name": "stdout",
          "output_type": "stream",
          "text": [
            "Position(0,0): X\n",
            "Position(8,1): G\n"
          ]
        }
      ],
      "source": [
        "import maze_helper as mh\n",
        "\n",
        "maze = mh.parse_maze(maze_str)\n",
        "\n",
        "# look at a position in the maze by subsetting the 2d array\n",
        "print(\"Position(0,0):\", maze[1, 0])\n",
        "\n",
        "# there is also a helper function called `look(maze, pos)` available\n",
        "# which uses a 2-tuple for the position.\n",
        "print(\"Position(8,1):\", mh.look(maze, (8, 1)))"
      ]
    },
    {
      "cell_type": "markdown",
      "metadata": {
        "id": "GQ5iujgTX8x1"
      },
      "source": [
        "A helper function to visualize the maze is also available."
      ]
    },
    {
      "cell_type": "code",
      "execution_count": 48,
      "metadata": {
        "id": "paAGvAAxX8x2",
        "outputId": "2539e01f-b7fb-4725-bd5d-2657814914c5"
      },
      "outputs": [
        {
          "data": {
            "image/png": "[encoded data removed]",
            "text/plain": [
              "<Figure size 640x480 with 1 Axes>"
            ]
          },
          "metadata": {
            "image/png": {
              "height": 269,
              "width": 534
            }
          },
          "output_type": "display_data"
        }
      ],
      "source": [
        "%matplotlib inline\n",
        "%config InlineBackend.figure_format = 'retina'\n",
        "# use higher resolution images in notebook\n",
        "\n",
        "mh.show_maze(maze)"
      ]
    },
    {
      "cell_type": "markdown",
      "metadata": {
        "id": "DIpCnTTuX8x3"
      },
      "source": [
        "Find the position of the start and the goal using the helper function `find_pos()`"
      ]
    },
    {
      "cell_type": "code",
      "execution_count": 49,
      "metadata": {
        "id": "p21F9MWTX8x3",
        "outputId": "17017ae0-b80b-4575-bba8-fdadfd116d72"
      },
      "outputs": [
        {
          "name": "stdout",
          "output_type": "stream",
          "text": [
            "Start location: (3, 11)\n",
            "Goal location: (8, 1)\n"
          ]
        }
      ],
      "source": [
        "print(\"Start location:\", mh.find_pos(maze, what = \"S\"))\n",
        "print(\"Goal location:\", mh.find_pos(maze, what = \"G\"))"
      ]
    },
    {
      "cell_type": "markdown",
      "metadata": {
        "id": "-vKlTMMEX8x3"
      },
      "source": [
        "Helper function documentation."
      ]
    },
    {
      "cell_type": "code",
      "execution_count": 50,
      "metadata": {
        "id": "z5ijqRK3X8x4",
        "outputId": "b7c74c93-8173-4f19-cb06-df1b9c1caec2"
      },
      "outputs": [
        {
          "name": "stdout",
          "output_type": "stream",
          "text": [
            "Help on module maze_helper:\n",
            "\n",
            "NAME\n",
            "    maze_helper\n",
            "\n",
            "DESCRIPTION\n",
            "    Code for the Maze Assignment by Michael Hahsler\n",
            "    Usage: \n",
            "        import maze_helper as mh\n",
            "        mh.show_some_mazes()\n",
            "\n",
            "FUNCTIONS\n",
            "    find_pos(maze, what='S')\n",
            "        Find start/goal in a maze and returns the first one. \n",
            "        Caution: there is no error checking!\n",
            "        \n",
            "        Parameters:\n",
            "        maze: a array with characters prodced by parse_maze()\n",
            "        what: the letter to be found ('S' for start and 'G' for goal)\n",
            "        \n",
            "        Returns:\n",
            "        a tupple (x, y) for the found position.\n",
            "    \n",
            "    look(maze, pos)\n",
            "        Look at the label of a square with the position as an array of the form (x, y).\n",
            "    \n",
            "    parse_maze(maze_str)\n",
            "        Convert a maze as a string into a 2d numpy array\n",
            "    \n",
            "    show_maze(maze, fontsize=10)\n",
            "        Display a (parsed) maze as an image.\n",
            "    \n",
            "    welcome()\n",
            "        Welcome message.\n",
            "\n",
            "FILE\n",
            "    /Users/ephraim888sun/Code/class/spring2024/AI/Lab2/maze_helper.py\n",
            "\n",
            "\n"
          ]
        }
      ],
      "source": [
        "help(mh)"
      ]
    },
    {
      "cell_type": "markdown",
      "metadata": {
        "id": "nnY5-MizX8x5"
      },
      "source": [
        "## Tree structure\n",
        "\n",
        "Here is an implementation of the basic node structure for the search algorithms (see Fig 3.7 on page 73). I have added a method that extracts the path from the root node to the current node. It can be used to get the path when the search is completed."
      ]
    },
    {
      "cell_type": "code",
      "execution_count": 51,
      "metadata": {
        "id": "en2BUm6SX8x8"
      },
      "outputs": [],
      "source": [
        "class Node:\n",
        "    def __init__(self, pos, parent, action, cost):\n",
        "        self.pos = tuple(pos)    # the state; positions are (row,col)\n",
        "        self.parent = parent     # reference to parent node. None means root node.\n",
        "        self.action = action     # action used in the transition function (root node has None)\n",
        "        self.cost = cost         # for uniform cost this is the depth. It is also g(n) for A* search\n",
        "\n",
        "    def __str__(self):\n",
        "        return f\"Node - pos = {self.pos}; action = {self.action}; cost = {self.cost}\"\n",
        "\n",
        "    def get_path_from_root(self):\n",
        "        \"\"\"returns nodes on the path from the root to the current node.\"\"\"\n",
        "        node = self\n",
        "        path = [node]\n",
        "\n",
        "        while not node.parent is None:\n",
        "            node = node.parent\n",
        "            path.append(node)\n",
        "\n",
        "        path.reverse()\n",
        "\n",
        "        return(path)"
      ]
    },
    {
      "cell_type": "markdown",
      "metadata": {
        "id": "4vz4q_CgX8x8"
      },
      "source": [
        "If needed, then you can add more fields to the class like the heuristic value $h(n)$ or $f(n)$.\n",
        "\n",
        "Examples for how to create and use a tree and information on memory management can be found [here](../HOWTOs/trees.ipynb)."
      ]
    },
    {
      "cell_type": "markdown",
      "metadata": {
        "id": "7Xk2pUioX8x8"
      },
      "source": [
        "# Tasks\n",
        "\n",
        "The goal is to:\n",
        "\n",
        "1. Implement the following search algorithms for solving different mazes:\n",
        "\n",
        "    - Breadth-first search (BFS)\n",
        "    - Depth-first search (DFS)\n",
        "    - Greedy best-first search (GBFS)\n",
        "    - A* search\n",
        "\n",
        "2. Run each of the above algorithms on the\n",
        "    - [small maze](small_maze.txt),\n",
        "    - [medium maze](medium_maze.txt),\n",
        "    - [large maze](large_maze.txt),\n",
        "    - [open maze](open_maze.txt),\n",
        "    - [wall maze](wall_maze.txt),\n",
        "    - [loops maze](loops_maze.txt),\n",
        "    - [empty maze](empty_maze.txt), and\n",
        "    - [empty 2_maze](empty_2_maze.txt).\n",
        "    \n",
        "3. For each problem instance and each search algorithm, report the following in a table:\n",
        "\n",
        "    - The solution and its path cost\n",
        "    - Total number of nodes expanded\n",
        "    - Maximum tree depth\n",
        "    - Maximum size of the frontier\n",
        "\n",
        "4. Display each solution by marking every maze square (or state) visited and the squares on the final path.\n",
        "\n",
        "## General [10 Points]\n",
        "\n",
        "1. Make sure that you use the latest version of this notebook. Sync your forked repository and pull the latest revision.\n",
        "2. Your implementation can use libraries like math, numpy, scipy, but not libraries that implement inteligent agents or complete search algorithms. Try to keep the code simple! In this course, we want to learn about the algorithms and we often do not need to use object-oriented design.\n",
        "3. You notebook needs to be formated professionally.\n",
        "    - Add additional markdown blocks for your description, comments in the code, add tables and use mathplotlib to produce charts where appropriate\n",
        "    - Do not show debugging output or include an excessive amount of output.\n",
        "    - Check that your PDF file is readable. For example, long lines are cut off in the PDF file. You don't have control over page breaks, so do not worry about these.\n",
        "4. Document your code. Add a short discussion of how your implementation works and your design choices."
      ]
    },
    {
      "cell_type": "markdown",
      "metadata": {
        "id": "CtPtA9nCX8x9"
      },
      "source": [
        "## Task 1: Defining the search problem and determining the problem size [10 Points]\n",
        "\n",
        "Define the components of the search problem:\n",
        "\n",
        "* Initial state\n",
        "* Actions\n",
        "* Transition model\n",
        "* Goal state\n",
        "* Path cost\n",
        "\n",
        "Use verbal descriptions, variables and equations as appropriate.\n",
        "\n",
        "*Note:* You can swich the next block from code to Markdown and use formating."
      ]
    },
    {
      "cell_type": "code",
      "execution_count": 52,
      "metadata": {
        "id": "19-UmxGGX8x9"
      },
      "outputs": [],
      "source": [
        "# Your answer goes here\n",
        "\n"
      ]
    },
    {
      "cell_type": "markdown",
      "metadata": {
        "id": "ZSS6a8oFX8x9"
      },
      "source": [
        "Give some estimates for the problem size:\n",
        "\n",
        "* $n$: state space size\n",
        "* $d$: depth of the optimal solution\n",
        "* $m$: maximum depth of tree\n",
        "* $b$: maximum branching factor\n",
        "\n",
        "Describe how you would determin these values for a given maze."
      ]
    },
    {
      "cell_type": "code",
      "execution_count": 53,
      "metadata": {
        "id": "ZcnZ-vTZX8x9"
      },
      "outputs": [],
      "source": [
        "# Your answer goes here"
      ]
    },
    {
      "cell_type": "markdown",
      "metadata": {
        "id": "pJQ8BzG7X8x9"
      },
      "source": [
        "## Task 2: Uninformed search: Breadth-first and depth-first [40 Points]\n",
        "\n",
        "Implement these search strategies. Follow the pseudocode in the textbook/slides. You can use the tree structure shown above to extract the final path from your solution.\n",
        "\n",
        "__Notes:__\n",
        "* You can find maze solving implementations online that use the map to store information. While this is an effective idea for this two-dimensional navigation problem, it typically cannot be used for other search problems. Therefore, follow the textbook and only store information in the tree created during search, and use the `reached` and `frontier` data structures.\n",
        "* DSF can be implemented using the BFS tree search algorithm and simply changing the order in which the frontier is expanded (this is equivalent to best-first search with path length as the criterion to expand the next node). However, to take advantage of the significantly smaller memory footprint of DFS, you need to implement DFS in a different way without a `reached` data structure and by releasing the memory for nodes that are not needed anymore.\n",
        "* If DFS does not use a `reached` data structure, then its cycle checking abilities are limited. Remember, that DSF is incomplete if cycles cannot be prevented. You will see in your experiments that open spaces are a problem."
      ]
    },
    {
      "cell_type": "code",
      "execution_count": 54,
      "metadata": {},
      "outputs": [],
      "source": [
        "# Helper Functions - Taken From Class Lecture Notebooks\n",
        "\n",
        "import numpy as np\n",
        "from matplotlib import colors\n",
        "from matplotlib import animation, rc\n",
        "import matplotlib.pyplot as plt\n",
        "from IPython.display import HTML\n",
        "rc('animation', html='html5')\n",
        "\n",
        "# numpy comparison warnings\n",
        "import warnings\n",
        "warnings.simplefilter(action='ignore', category=FutureWarning)\n",
        "\n",
        "def maze_to_matrix(maze):  \n",
        "    \"\"\"convert a maze a numeric numpy array for visualization via imshow.\"\"\"\n",
        "\n",
        "    # make a deep copy first so the original maze is not changed\n",
        "    maze = np.copy(maze)\n",
        "    \n",
        "    # Converts all tile types to integers\n",
        "    maze[maze == ' '] = 0\n",
        "    maze[maze == 'X'] = 1 # wall\n",
        "    maze[maze == 'S'] = 2 # start\n",
        "    maze[maze == 'G'] = 3 # goal\n",
        "    maze[maze == 'P'] = 4 # position/final path\n",
        "    maze[maze == '.'] = 5 # explored squares\n",
        "    maze[maze == 'F'] = 6 # frontier\n",
        "    maze = maze.astype(int)\n",
        "    \n",
        "    return(maze)\n",
        "\n",
        "# Based on show_maze but modified to generate animation (suggested by Troy Jeffrey McNitt)\n",
        "# Sadly I can not embed the animations in the PDF I have to submit :(\n",
        "def animate_maze(result, repeat = False):\n",
        "        \"\"\"Build an animation from a list of mazes. Assumes that results has the elements:\n",
        "           path, reached, actions and maze_anim with a list of maze arrays.\"\"\"\n",
        "        \n",
        "        if result['path'] != None:       \n",
        "            print(f\"Path length: {len(result['path'])-1}\")\n",
        "            print(f\"Reached squares: {len(result['reached'])}\")\n",
        "            print(f\"Action sequence: {result['actions']}\")\n",
        "        else:\n",
        "            print(\"No solution found.\")\n",
        "        \n",
        "        \n",
        "        mazes = result['maze_anim']\n",
        "        \n",
        "        cmap = colors.ListedColormap(['white', 'black', 'blue', 'green', 'red', 'gray', 'orange'])\n",
        " \n",
        "        goal = mh.find_pos(mazes[0], 'G')\n",
        "        start = mh.find_pos(mazes[0], 'S')\n",
        " \n",
        "        mazes = [maze_to_matrix(m) for m in mazes]\n",
        "\n",
        "        fig, ax = plt.subplots()\n",
        "        im = ax.imshow(maze_to_matrix(mazes[0]), cmap = cmap, norm = colors.BoundaryNorm(list(range(cmap.N + 1)), cmap.N))\n",
        " \n",
        "        plt.text(start[1], start[0], \"S\", fontsize = 10, color = \"white\",\n",
        "                horizontalalignment = 'center',\n",
        "                verticalalignment = 'center')\n",
        " \n",
        "        plt.text(goal[1], goal[0], \"G\", fontsize = 10, color = \"white\",\n",
        "                horizontalalignment = 'center',\n",
        "                verticalalignment = 'center')\n",
        "\n",
        "        def step(i):  \n",
        "                im.set_array(maze_to_matrix(mazes[i]))\n",
        "                return([im])\n",
        " \n",
        "        ani = animation.FuncAnimation(\n",
        "            fig, \n",
        "            step, \n",
        "            frames = len(mazes),\n",
        "            repeat = repeat\n",
        "        )\n",
        " \n",
        "        plt.close()\n",
        "\n",
        "        return ani\n",
        "\n",
        "def getActions(nMaze, nodePos, verbose=False):\n",
        "    \"\"\"Get the legal actions for a given node position.\"\"\"\n",
        "    actions = []\n",
        "    for action in [(0, 1), (0, -1), (1, 0), (-1, 0)]:\n",
        "        newPos = (nodePos[0] + action[0], nodePos[1] + action[1])\n",
        "        if isLegalPos(nMaze, newPos):\n",
        "            actions.append(action)\n",
        "    if verbose:\n",
        "        print(f\"Actions for {nodePos}: {actions}\")\n",
        "    return actions\n",
        "\n",
        "def isLegalPos(maze, pos):\n",
        "    \"\"\"Check if a position is legal in the maze.\"\"\"\n",
        "    if pos[0] < 0 or pos[1] < 0:\n",
        "        return False\n",
        "    if pos[0] >= maze.shape[0] or pos[1] >= maze.shape[1]:\n",
        "        return False\n",
        "    if maze[pos] == 'X':\n",
        "        return False\n",
        "    return True\n",
        "\n",
        "def move(pos, action):\n",
        "    \"\"\"Move from a position in a direction.\"\"\"\n",
        "    return (pos[0] + action[0], pos[1] + action[1])\n",
        "\n",
        "def setPos(maze, pos, val):\n",
        "    \"\"\"Set the value of a position in the maze.\"\"\"\n",
        "    maze[pos] = val\n",
        "    return maze"
      ]
    },
    {
      "cell_type": "markdown",
      "metadata": {},
      "source": [
        "#### Breadth First Search"
      ]
    },
    {
      "cell_type": "code",
      "execution_count": 57,
      "metadata": {
        "id": "g7AaLMeuX8x-"
      },
      "outputs": [],
      "source": [
        "# Breadth First Search\n",
        "\n",
        "def breadthFirstSearch(nMaze, verbose=False):\n",
        "    \n",
        "    nResult = {\n",
        "        'maze_anim' : [],\n",
        "        'actions' : [],\n",
        "        'path' : [],\n",
        "        'reached' : []\n",
        "    }\n",
        "\n",
        "    startState = mh.find_pos(maze, what = \"S\")\n",
        "    goalState = mh.find_pos(maze, what = \"G\")\n",
        "\n",
        "\n",
        "    nResult['maze_anim'].append(nMaze)\n",
        "\n",
        "    currentNode = Node(pos=startState , parent=None, action=None, cost=0)\n",
        "\n",
        "    if (verbose): print(currentNode)\n",
        "\n",
        "    if (goalState == currentNode.pos):\n",
        "        return currentNode\n",
        "    \n",
        "    frontier = [currentNode]\n",
        "    explored = set()\n",
        "\n",
        "    while frontier:\n",
        "        currentNode = frontier.pop(0)\n",
        "        explored.add(currentNode.pos)\n",
        "\n",
        "        for action in getActions(nMaze, currentNode.pos):\n",
        "            childPos = move(currentNode.pos, action)\n",
        "            childNode = Node(pos=childPos, parent=currentNode, action=action, cost=currentNode.cost + 1)\n",
        "\n",
        "            if (childPos not in explored) and (childNode not in frontier):\n",
        "                if (childPos == goalState):\n",
        "                    nResult['path'] = childNode.get_path_from_root()\n",
        "                    nResult['reached'] = explored\n",
        "                    nResult['actions'] = [node.action for node in nResult['path']]\n",
        "                    return nResult\n",
        "\n",
        "                frontier.append(childNode)\n",
        "                nMaze = setPos(nMaze, childPos, \".\")\n",
        "                nResult['maze_anim'].append(nMaze)\n",
        "\n",
        "    return nResult\n"
      ]
    },
    {
      "cell_type": "code",
      "execution_count": null,
      "metadata": {},
      "outputs": [],
      "source": []
    },
    {
      "cell_type": "code",
      "execution_count": 59,
      "metadata": {},
      "outputs": [
        {
          "name": "stdout",
          "output_type": "stream",
          "text": [
            "CPU times: user 0 ns, sys: 0 ns, total: 0 ns\n",
            "Wall time: 8.11 µs\n",
            "Node - pos = (3, 11); action = None; cost = 0\n",
            "Path length: 19\n",
            "Reached squares: 90\n",
            "Action sequence: [None, (0, 1), (0, 1), (1, 0), (1, 0), (0, -1), (1, 0), (1, 0), (0, -1), (0, -1), (1, 0), (0, -1), (0, -1), (0, -1), (0, -1), (0, -1), (0, -1), (0, -1), (0, -1), (0, -1)]\n"
          ]
        },
        {
          "name": "stderr",
          "output_type": "stream",
          "text": [
            "/opt/homebrew/lib/python3.11/site-packages/matplotlib/animation.py:884: UserWarning: Animation was deleted without rendering anything. This is most likely not intended. To prevent deletion, assign the Animation to a variable, e.g. `anim`, that exists until you output the Animation using `plt.show()` or `anim.save()`.\n",
            "  warnings.warn(\n"
          ]
        },
        {
          "data": {
            "image/png": "[encoded data removed]",
            "text/plain": [
              "<Figure size 640x480 with 1 Axes>"
            ]
          },
          "metadata": {
            "image/png": {
              "height": 269,
              "width": 534
            }
          },
          "output_type": "display_data"
        }
      ],
      "source": [
        "bfsMaze = maze.copy()\n",
        "\n",
        "%time \n",
        "result = breadthFirstSearch(bfsMaze, verbose=True)\n",
        "\n",
        "ani = animate_maze(result)\n",
        "\n",
        "mh.show_maze(bfsMaze)"
      ]
    },
    {
      "cell_type": "markdown",
      "metadata": {},
      "source": [
        "#### Depth First Search"
      ]
    },
    {
      "cell_type": "code",
      "execution_count": null,
      "metadata": {},
      "outputs": [],
      "source": [
        "# Depth First Search"
      ]
    },
    {
      "cell_type": "markdown",
      "metadata": {
        "id": "Qauh_Y9mX8x-"
      },
      "source": [
        "How does BFS and DFS deal with loops (cycles)?"
      ]
    },
    {
      "cell_type": "code",
      "execution_count": null,
      "metadata": {
        "id": "SXSLUPTBX8x-"
      },
      "outputs": [],
      "source": [
        "# Discussion"
      ]
    },
    {
      "cell_type": "markdown",
      "metadata": {
        "id": "vtNCuomLX8x-"
      },
      "source": [
        "Are your implementations complete and optimal? Explain why. What is the time and space complexity of each of **your** implementations?"
      ]
    },
    {
      "cell_type": "code",
      "execution_count": null,
      "metadata": {
        "id": "x0x2g23KX8x-"
      },
      "outputs": [],
      "source": [
        "# Discussion"
      ]
    },
    {
      "cell_type": "markdown",
      "metadata": {
        "id": "vO3DhefiX8x-"
      },
      "source": [
        "## Task 3: Informed search: Implement greedy best-first search and A* search  [20 Points]\n",
        "\n",
        "You can use the map to estimate the distance from your current position to the goal using the Manhattan distance (see https://en.wikipedia.org/wiki/Taxicab_geometry) as a heuristic function. Both algorithms are based on Best-First search which requires only a small change from the BFS algorithm you have already implemented (see textbook/slides)."
      ]
    },
    {
      "cell_type": "code",
      "execution_count": null,
      "metadata": {},
      "outputs": [],
      "source": [
        "### Heuristic Function\n",
        "\n",
        "def manhattan(pos1, pos2):\n",
        "    \"\"\"returns the Manhattan distance between two positions\"\"\"\n",
        "    return(np.sum(np.abs(np.subtract(pos1, pos2))))\n",
        "    \n",
        "# print(manhattan((0,0), (1,1)))\n",
        "\n",
        "def euclidean(pos1, pos2):\n",
        "    \"\"\"returns the Euclidean distance between two positions\"\"\"\n",
        "    return(np.sqrt(np.sum(np.square(np.subtract(pos1, pos2)))))\n",
        "\n",
        "# print(euclidean([0,0], [1,1]))\n"
      ]
    },
    {
      "cell_type": "code",
      "execution_count": null,
      "metadata": {
        "id": "aULWGArbX8x-"
      },
      "outputs": [],
      "source": [
        "# Your code goes here"
      ]
    },
    {
      "cell_type": "markdown",
      "metadata": {
        "id": "_0pSdCMVX8x-"
      },
      "source": [
        "Are your implementations complete and optimal? What is the time and space complexity?"
      ]
    },
    {
      "cell_type": "code",
      "execution_count": null,
      "metadata": {
        "id": "LNbW_VygX8x-"
      },
      "outputs": [],
      "source": [
        "# Discussion"
      ]
    },
    {
      "cell_type": "markdown",
      "metadata": {
        "id": "-nghkIyiX8x-"
      },
      "source": [
        "## Task 4: Comparison and discussion [20 Points]\n",
        "\n",
        "Run experiments to compare the implemented algorithms.\n",
        "\n",
        "How to deal with issues:\n",
        "\n",
        "* Your implementation returns unexpected results: Try to debug and fix the code. Visualizing the maze, the current path and the frontier after every step is very helpful. If the code still does not work, then mark the result with an asterisk (*) and describe the issue below the table.\n",
        "\n",
        "* Your implementation cannot consistently solve a specific maze and ends up in an infinite loop:\n",
        "    Debug. If it is a shortcoming of the algorithm/implementation, then put \"N/A*\" in the results table and describe why this is happening."
      ]
    },
    {
      "cell_type": "code",
      "execution_count": null,
      "metadata": {
        "id": "kk7o_CJbX8x_"
      },
      "outputs": [],
      "source": [
        "# Add code"
      ]
    },
    {
      "cell_type": "markdown",
      "metadata": {
        "id": "70DJIN7uX8yA"
      },
      "source": [
        "Complete the following table for each maze.\n",
        "\n",
        "__Small maze__\n",
        "\n",
        "| algorithm | path cost | # of nodes expanded | max tree depth | max # of nodes in memory | max frontier size |\n",
        "|-----------|-----------|----------------|----------------|---------------|-------------------|\n",
        "| BFS       |           |                |                |               |                   |\n",
        "| DFS       |           |                |                |               |                   |\n",
        "| GBS       |           |                |                |               |                   |\n",
        "| A*        |           |                |                |               |                   |\n",
        "\n",
        "__Medium Maze__\n",
        "\n",
        "..."
      ]
    },
    {
      "cell_type": "markdown",
      "metadata": {
        "id": "4WnMJfJwX8yA"
      },
      "source": [
        "Present the results as using charts (see [Python Code Examples/charts and tables](../HOWTOs/charts_and_tables.ipynb))."
      ]
    },
    {
      "cell_type": "code",
      "execution_count": null,
      "metadata": {
        "id": "PkJP3wL0X8yA"
      },
      "outputs": [],
      "source": [
        "# Add charts"
      ]
    },
    {
      "cell_type": "markdown",
      "metadata": {
        "id": "5U3LZ_VwX8yA"
      },
      "source": [
        "Discuss the most important lessons you have learned from implementing the different search strategies."
      ]
    },
    {
      "cell_type": "code",
      "execution_count": null,
      "metadata": {
        "id": "T1gavyRsX8yA"
      },
      "outputs": [],
      "source": [
        "# Add discussion"
      ]
    },
    {
      "cell_type": "markdown",
      "metadata": {
        "id": "zdgJFlGYX8yB"
      },
      "source": [
        "## Advanced task: IDS and Multiple goals\n",
        "\n",
        "* __Graduate students__ need to complete this task [10 points]\n",
        "* __Undergraduate students__ can attempt this as a bonus task [max +5 bonus points].\n",
        "\n",
        "1. Implement IDS (iterative deepening search using DFS)\n",
        "\n",
        "2. Create a few mazes with multiple goals by adding one or two more goals to the medium size maze.\n",
        "Solve the maze with your implementations for DFS, BFS, and IDS. Run experiments to show which implementations find the optimal solution and which do not. Discuss why that is the case."
      ]
    },
    {
      "cell_type": "code",
      "execution_count": null,
      "metadata": {
        "id": "0Qsm-BywX8yB"
      },
      "outputs": [],
      "source": [
        "# Your code/answer goes here"
      ]
    },
    {
      "cell_type": "markdown",
      "metadata": {
        "id": "7nRr3GRRX8yF"
      },
      "source": [
        "## More advanced tasks to think about\n",
        "\n",
        "Instead of defining each square as a state, use only intersections as states. Now the storage requirement is reduced, but the path length between two intersections can be different. If we use total path length measured as the number of squares as path cost, how can we make sure that BFS and iterative deepening search is optimal? Change the code to do so."
      ]
    },
    {
      "cell_type": "code",
      "execution_count": null,
      "metadata": {
        "id": "Uc00Tf26X8yL"
      },
      "outputs": [],
      "source": [
        "# Your code/answer goes here"
      ]
    },
    {
      "cell_type": "markdown",
      "metadata": {
        "id": "jt8sXv6cX8yL"
      },
      "source": [
        "Modify your A* search to add weights (see text book) and explore how different weights influence the result."
      ]
    },
    {
      "cell_type": "code",
      "execution_count": null,
      "metadata": {
        "id": "33GfYysaX8yL"
      },
      "outputs": [],
      "source": [
        "# Your code/answer goes here"
      ]
    },
    {
      "cell_type": "markdown",
      "metadata": {
        "id": "F360fXK3X8yL"
      },
      "source": [
        "What happens if the agent does not know the layout of the maze in advance (i.e., faces an unkown, only partially observable environment)? How does the environment look then (PEAS description)? How would you implement a rational agent to solve the maze? What if the agent still has a GPS device to tell the distance to the goal?"
      ]
    },
    {
      "cell_type": "code",
      "execution_count": null,
      "metadata": {
        "id": "ezINyZRKX8yL"
      },
      "outputs": [],
      "source": [
        "# Your code/answer goes here"
      ]
    }
  ],
  "metadata": {
    "colab": {
      "provenance": []
    },
    "kernelspec": {
      "display_name": "my-python3-kernel",
      "language": "python",
      "name": "my-python3-kernel"
    },
    "language_info": {
      "codemirror_mode": {
        "name": "ipython",
        "version": 3
      },
      "file_extension": ".py",
      "mimetype": "text/x-python",
      "name": "python",
      "nbconvert_exporter": "python",
      "pygments_lexer": "ipython3",
      "version": "3.11.8"
    }
  },
  "nbformat": 4,
  "nbformat_minor": 0
}
